{
 "cells": [
  {
   "cell_type": "markdown",
   "id": "8661c8e2-8837-40df-9ad8-d3fcaff9540d",
   "metadata": {},
   "source": [
    "# Recursion"
   ]
  },
  {
   "cell_type": "markdown",
   "id": "a4fe6d1a-8d66-404a-93df-716528bbabc8",
   "metadata": {},
   "source": [
    "[N Queens](#N-Queens)\n"
   ]
  },
  {
   "cell_type": "markdown",
   "id": "fe8036b0-3a78-4616-9550-b4d274efca3d",
   "metadata": {},
   "source": [
    "## N Queens"
   ]
  },
  {
   "cell_type": "code",
   "execution_count": 3,
   "id": "0f42b28f-041e-4c94-94a6-fbb46b73f626",
   "metadata": {},
   "outputs": [
    {
     "name": "stdout",
     "output_type": "stream",
     "text": [
      "[[0. 0. 1. 0.]\n",
      " [1. 0. 0. 0.]\n",
      " [0. 0. 0. 1.]\n",
      " [0. 1. 0. 0.]]\n"
     ]
    }
   ],
   "source": [
    "import numpy as np\n",
    "board = np.zeros((4, 4))\n",
    "def validate(board, n):\n",
    "    for row in range(0, n):\n",
    "        if sum(board[row,]) > 1:\n",
    "            return False\n",
    "    for col in range(0, n):\n",
    "        if sum(board[:, col]) > 1:\n",
    "            return False\n",
    "    diags = [board[::-1].diagonal(i) for i in range(-(n - 1), n)]  # parallel to main diag of b (bottom left to top right)\n",
    "    diags.extend([board.diagonal(i) for i in range((n - 1), -n, -1)]) # perpendicular to main diag\n",
    "    for diag in diags:\n",
    "        if len(diag) > 1:\n",
    "            if sum(diag) > 1:\n",
    "                return False\n",
    "    return True\n",
    "\n",
    "def place(board, col, n):\n",
    "    if validate(board, n):\n",
    "        if board.sum() == n:\n",
    "            return True\n",
    "        for row in range(0, n):\n",
    "            board[row, col] = 1\n",
    "            if validate(board,n):\n",
    "                if place(board, col + 1, n):\n",
    "                    return True\n",
    "                board[row, col] = 0\n",
    "            else:\n",
    "                board[row, col] = 0\n",
    "    return False\n",
    "if place(board, 0, 4):\n",
    "    print(board)"
   ]
  },
  {
   "cell_type": "code",
   "execution_count": null,
   "id": "6e3baa9f-3939-4c65-966a-60cba35966b9",
   "metadata": {},
   "outputs": [],
   "source": []
  },
  {
   "cell_type": "code",
   "execution_count": 4,
   "id": "c549067c-1fcc-4a39-a10c-9ed9f52b2af8",
   "metadata": {},
   "outputs": [
    {
     "name": "stdout",
     "output_type": "stream",
     "text": [
      "original matrix is :\n",
      " [[0 1 2]\n",
      " [3 4 5]\n",
      " [6 7 8]]\n",
      "trace of matrix : 12\n"
     ]
    }
   ],
   "source": [
    " import numpy as np\n",
    " a=np.arange(9).reshape(3,3)\n",
    " print(\"original matrix is :\\n\",a)\n",
    " m=np.trace(a) # sum of main diag\n",
    " print(\"trace of matrix :\", m)"
   ]
  },
  {
   "cell_type": "code",
   "execution_count": 5,
   "id": "9d8653cc-49a6-43b8-a3a0-c74bb5799b2e",
   "metadata": {},
   "outputs": [
    {
     "data": {
      "text/plain": [
       "array([[ 0,  1,  2,  3,  4],\n",
       "       [ 5,  6,  7,  8,  9],\n",
       "       [10, 11, 12, 13, 14],\n",
       "       [15, 16, 17, 18, 19],\n",
       "       [20, 21, 22, 23, 24]])"
      ]
     },
     "execution_count": 5,
     "metadata": {},
     "output_type": "execute_result"
    }
   ],
   "source": [
    "b = np.arange(0,25).reshape(5,5)\n",
    "b"
   ]
  },
  {
   "cell_type": "code",
   "execution_count": 6,
   "id": "9fe1403b-62b9-4746-9756-228e45082df0",
   "metadata": {},
   "outputs": [
    {
     "data": {
      "text/plain": [
       "60"
      ]
     },
     "execution_count": 6,
     "metadata": {},
     "output_type": "execute_result"
    }
   ],
   "source": [
    "np.trace(b)"
   ]
  },
  {
   "cell_type": "code",
   "execution_count": 7,
   "id": "fbcdb2d9-4301-415f-9a4b-eab8f161b194",
   "metadata": {},
   "outputs": [
    {
     "name": "stdout",
     "output_type": "stream",
     "text": [
      "diagonal elements \n",
      ": [ 0  6 12 18 24]\n"
     ]
    }
   ],
   "source": [
    "m = b.diagonal()                                     \n",
    "print(\"diagonal elements \\n:\", m)"
   ]
  },
  {
   "cell_type": "code",
   "execution_count": 8,
   "id": "c72a6cc1-b132-4b78-b757-49db192726c2",
   "metadata": {},
   "outputs": [
    {
     "data": {
      "text/plain": [
       "array([[20, 21, 22, 23, 24],\n",
       "       [15, 16, 17, 18, 19],\n",
       "       [10, 11, 12, 13, 14],\n",
       "       [ 5,  6,  7,  8,  9],\n",
       "       [ 0,  1,  2,  3,  4]])"
      ]
     },
     "execution_count": 8,
     "metadata": {},
     "output_type": "execute_result"
    }
   ],
   "source": [
    "b[::-1]"
   ]
  },
  {
   "cell_type": "code",
   "execution_count": 9,
   "id": "81e06dec-91db-4e26-b467-d2e7193463a8",
   "metadata": {},
   "outputs": [
    {
     "data": {
      "text/plain": [
       "array([10,  6,  2])"
      ]
     },
     "execution_count": 9,
     "metadata": {},
     "output_type": "execute_result"
    }
   ],
   "source": [
    "b[::-1].diagonal(-2)"
   ]
  },
  {
   "cell_type": "code",
   "execution_count": 10,
   "id": "0b46e979-d57e-4bd0-9d2d-bce4dc22c877",
   "metadata": {},
   "outputs": [
    {
     "data": {
      "text/plain": [
       "array([[ 0,  1,  2,  3,  4],\n",
       "       [ 5,  6,  7,  8,  9],\n",
       "       [10, 11, 12, 13, 14],\n",
       "       [15, 16, 17, 18, 19],\n",
       "       [20, 21, 22, 23, 24]])"
      ]
     },
     "execution_count": 10,
     "metadata": {},
     "output_type": "execute_result"
    }
   ],
   "source": [
    "b"
   ]
  },
  {
   "cell_type": "code",
   "execution_count": 11,
   "id": "46e8753f-a359-4468-a3d1-bbf1654356e6",
   "metadata": {},
   "outputs": [
    {
     "data": {
      "text/plain": [
       "array([[20, 21, 22, 23, 24],\n",
       "       [15, 16, 17, 18, 19],\n",
       "       [10, 11, 12, 13, 14],\n",
       "       [ 5,  6,  7,  8,  9],\n",
       "       [ 0,  1,  2,  3,  4]])"
      ]
     },
     "execution_count": 11,
     "metadata": {},
     "output_type": "execute_result"
    }
   ],
   "source": [
    "b[::-1,:]"
   ]
  },
  {
   "cell_type": "code",
   "execution_count": 12,
   "id": "a99c0810-f489-4649-9a18-88e03711c601",
   "metadata": {},
   "outputs": [
    {
     "data": {
      "text/plain": [
       "array([[ 0,  1,  2,  3,  4],\n",
       "       [ 5,  6,  7,  8,  9],\n",
       "       [10, 11, 12, 13, 14],\n",
       "       [15, 16, 17, 18, 19],\n",
       "       [20, 21, 22, 23, 24]])"
      ]
     },
     "execution_count": 12,
     "metadata": {},
     "output_type": "execute_result"
    }
   ],
   "source": [
    "b"
   ]
  },
  {
   "cell_type": "code",
   "execution_count": 13,
   "id": "97b2ff3f-cee4-4c0c-a04b-90157d1b5319",
   "metadata": {},
   "outputs": [
    {
     "data": {
      "text/plain": [
       "[array([0]),\n",
       " array([5, 1]),\n",
       " array([10,  6,  2]),\n",
       " array([15, 11,  7,  3]),\n",
       " array([20, 16, 12,  8,  4]),\n",
       " array([21, 17, 13,  9]),\n",
       " array([22, 18, 14]),\n",
       " array([23, 19]),\n",
       " array([24]),\n",
       " array([4]),\n",
       " array([3, 9]),\n",
       " array([ 2,  8, 14]),\n",
       " array([ 1,  7, 13, 19]),\n",
       " array([ 0,  6, 12, 18, 24]),\n",
       " array([ 5, 11, 17, 23]),\n",
       " array([10, 16, 22]),\n",
       " array([15, 21]),\n",
       " array([20])]"
      ]
     },
     "execution_count": 13,
     "metadata": {},
     "output_type": "execute_result"
    }
   ],
   "source": [
    "n = 5\n",
    "diags = [b[::-1].diagonal(i) for i in range(-(n - 1), n)] # parallel to main diag of b (bottom left to top right)\n",
    "k = [b.diagonal(i) for i in range((n - 1), -n, -1)] # perpendicular to main diag\n",
    "diags.extend(k)\n",
    "diags"
   ]
  },
  {
   "cell_type": "code",
   "execution_count": 14,
   "id": "980bd53b-914b-4b98-9348-582a08b18925",
   "metadata": {},
   "outputs": [
    {
     "data": {
      "text/plain": [
       "[array([4]),\n",
       " array([3, 9]),\n",
       " array([ 2,  8, 14]),\n",
       " array([ 1,  7, 13, 19]),\n",
       " array([ 0,  6, 12, 18, 24]),\n",
       " array([ 5, 11, 17, 23]),\n",
       " array([10, 16, 22]),\n",
       " array([15, 21]),\n",
       " array([20])]"
      ]
     },
     "execution_count": 14,
     "metadata": {},
     "output_type": "execute_result"
    }
   ],
   "source": [
    "k = [b.diagonal(i) for i in range((n - 1), -n, -1)]\n",
    "k"
   ]
  },
  {
   "cell_type": "code",
   "execution_count": 15,
   "id": "54c54120-f3c5-4363-9b06-b6ef476f8dbd",
   "metadata": {},
   "outputs": [
    {
     "data": {
      "text/plain": [
       "array([[ 0,  1,  2,  3,  4],\n",
       "       [ 5,  6,  7,  8,  9],\n",
       "       [10, 11, 12, 13, 14],\n",
       "       [15, 16, 17, 18, 19],\n",
       "       [20, 21, 22, 23, 24]])"
      ]
     },
     "execution_count": 15,
     "metadata": {},
     "output_type": "execute_result"
    }
   ],
   "source": [
    "b"
   ]
  },
  {
   "cell_type": "code",
   "execution_count": null,
   "id": "19805381-90f5-49c5-be04-e89ef2387fa0",
   "metadata": {},
   "outputs": [],
   "source": []
  },
  {
   "cell_type": "code",
   "execution_count": null,
   "id": "8bc05553-bf86-425c-85cd-f0d682a3bf37",
   "metadata": {},
   "outputs": [],
   "source": []
  },
  {
   "cell_type": "code",
   "execution_count": null,
   "id": "a9314773-f055-4b04-a05b-d221f4df22f8",
   "metadata": {},
   "outputs": [],
   "source": []
  },
  {
   "cell_type": "code",
   "execution_count": null,
   "id": "016e276f-0b33-4761-b21a-070a3b252650",
   "metadata": {},
   "outputs": [],
   "source": []
  }
 ],
 "metadata": {
  "kernelspec": {
   "display_name": "Python [conda env:py37]",
   "language": "python",
   "name": "conda-env-py37-py"
  },
  "language_info": {
   "codemirror_mode": {
    "name": "ipython",
    "version": 3
   },
   "file_extension": ".py",
   "mimetype": "text/x-python",
   "name": "python",
   "nbconvert_exporter": "python",
   "pygments_lexer": "ipython3",
   "version": "3.7.10"
  }
 },
 "nbformat": 4,
 "nbformat_minor": 5
}
