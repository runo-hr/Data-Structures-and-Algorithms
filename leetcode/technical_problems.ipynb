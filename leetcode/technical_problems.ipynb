{
 "cells": [
  {
   "cell_type": "markdown",
   "id": "21b0589f",
   "metadata": {},
   "source": [
    "## Two Sum"
   ]
  },
  {
   "cell_type": "code",
   "execution_count": 17,
   "id": "bf4497e3",
   "metadata": {},
   "outputs": [
    {
     "name": "stdout",
     "output_type": "stream",
     "text": [
      "(0, 0)\n"
     ]
    }
   ],
   "source": [
    "#wrong ans\n",
    "def two_sum(nums, target):\n",
    "    vals = set()\n",
    "    for num in nums:\n",
    "        val = target - num\n",
    "        if num in vals:\n",
    "            ans = (nums.index(num), nums.index(val) )\n",
    "            return ans\n",
    "        vals.add(val)\n",
    "        \n",
    "print(two_sum([3,3], 6))"
   ]
  },
  {
   "cell_type": "markdown",
   "id": "d1c247ce",
   "metadata": {},
   "source": [
    "#### Solution\n",
    "O(n) time  \n",
    "O(n) space"
   ]
  },
  {
   "cell_type": "code",
   "execution_count": 19,
   "id": "0197c953",
   "metadata": {},
   "outputs": [
    {
     "name": "stdout",
     "output_type": "stream",
     "text": [
      "(0, 1)\n"
     ]
    }
   ],
   "source": [
    "#correct ans\n",
    "def two_sum(nums, target):\n",
    "    vals = set()\n",
    "    i = 0\n",
    "    while i < len(nums):\n",
    "        val = target - nums[i]\n",
    "        if nums[i] in vals:\n",
    "            ans = ( nums.index(val), i)\n",
    "            return ans\n",
    "        else:\n",
    "            vals.add(val)\n",
    "            i += 1\n",
    "print(two_sum([3,3], 6))"
   ]
  },
  {
   "cell_type": "markdown",
   "id": "4ef3dc9b",
   "metadata": {},
   "source": [
    "## Add Two numbers  \n",
    "You are given two non-empty linked lists representing two non-negative integers. The digits are stored in reverse order, and each of their nodes contains a single digit. Add the two numbers and return the sum as a linked list.\n",
    "\n",
    "You may assume the two numbers do not contain any leading zero, except the number 0 itself"
   ]
  },
  {
   "cell_type": "markdown",
   "id": "d1df62d0",
   "metadata": {},
   "source": [
    "### This first solution does not use the linked list class provided by leetcode"
   ]
  },
  {
   "cell_type": "code",
   "execution_count": 26,
   "id": "86bffe3c",
   "metadata": {},
   "outputs": [
    {
     "name": "stdout",
     "output_type": "stream",
     "text": [
      "0 \n",
      "0 \n",
      "0 \n"
     ]
    }
   ],
   "source": [
    "class Node:\n",
    "    def __init__(self, v, n=None):\n",
    "        self.value = v\n",
    "        self.next = n\n",
    "\n",
    "class Linked_List:\n",
    "    def __init__(self, r = None):\n",
    "        self.root = r\n",
    "\n",
    "    def add(self, v):\n",
    "        if self.root == None:\n",
    "            new_node = Node(v)\n",
    "            self.root = new_node\n",
    "        else:\n",
    "            new_node = Node(v, self.root)\n",
    "            self.root = new_node\n",
    "\n",
    "    def __str__(self):\n",
    "        linkedListStr = \"\"\n",
    "        temp = self.root\n",
    "        while temp:\n",
    "            linkedListStr = (linkedListStr +\n",
    "                             str(temp.value) + \" \")\n",
    "            temp = temp.next\n",
    "        return linkedListStr\n",
    "\n",
    "class Solution(object):\n",
    "    def add_two_numbers(self, *args):\n",
    "        sum_nums = 0\n",
    "        for lst in args:\n",
    "            l_str = ''\n",
    "            temp = lst.root\n",
    "            while temp:\n",
    "                l_str = l_str + str(temp.value)\n",
    "                temp = temp.next\n",
    "            sum_nums += int(l_str[::-1])\n",
    "        ans_lst = Linked_List()\n",
    "        for i in str(sum_nums):\n",
    "            ans_lst.add(i)\n",
    "        return ans_lst\n",
    "\n",
    "l1 = [0]\n",
    "l2 = [0]\n",
    "\n",
    "lnkd_lst_1 = Linked_List()\n",
    "for val in l1:\n",
    "    lnkd_lst_1.add(val)\n",
    "print(lnkd_lst_1)\n",
    "\n",
    "lnkd_lst_2 = Linked_List()\n",
    "for val in l2:\n",
    "    lnkd_lst_2.add(val)\n",
    "print(lnkd_lst_2)\n",
    "\n",
    "s = Solution()\n",
    "ans = s.add_two_numbers(lnkd_lst_1, lnkd_lst_2)\n",
    "print(ans)"
   ]
  },
  {
   "cell_type": "markdown",
   "id": "2bce1b4a",
   "metadata": {},
   "source": [
    "### solution\n",
    "Assuming that the length of l1 linked list is m and the length of l2 linked list is n then we are iterating at most m or n times depending on which of the two has more nodes.   \n",
    "Therefore, the time complexity of the algorithm is O(max(m, n))."
   ]
  },
  {
   "cell_type": "code",
   "execution_count": 1,
   "id": "f69d116b",
   "metadata": {},
   "outputs": [],
   "source": [
    "class ListNode(object):\n",
    "    def __init__(self, val=0, next=None):\n",
    "         self.val = val\n",
    "         self.next = next\n",
    "\n",
    "\n",
    "class Solution(object):\n",
    "    def addTwoNumbers(self, l1, l2):\n",
    "        \"\"\"\n",
    "        :type l1: ListNode\n",
    "        :type l2: ListNode\n",
    "        :rtype: ListNode\n",
    "        \"\"\"\n",
    "        carry = 0\n",
    "        result = ListNode(0)\n",
    "        pointer = result #pointer and result are referenced to the same object.\n",
    "        while (l1 or l2 or carry):\n",
    "            first_num = l1.val if l1 else 0 #check if current node is not None\n",
    "            second_num = l2.val if l2 else 0\n",
    "\n",
    "            summation = first_num + second_num + carry\n",
    "            num = summation % 10\n",
    "            carry = summation // 10\n",
    "\n",
    "            pointer.next = ListNode(num)\n",
    "\n",
    "            pointer = pointer.next #update pointer with the result\n",
    "            l1 = l1.next if l1 else None\n",
    "            l2 = l2.next if l2 else None\n",
    "        return result.next\n",
    "\n"
   ]
  },
  {
   "cell_type": "markdown",
   "id": "4faecb2f",
   "metadata": {},
   "source": [
    "## Longest substring without repeating characters  \n",
    "Given a string s, find the length of the longest substring without repeating characters."
   ]
  },
  {
   "cell_type": "markdown",
   "id": "ca611a35",
   "metadata": {},
   "source": [
    "### Solution 1\n",
    "Quadratic time  \n",
    "Time complexity O(n^2)"
   ]
  },
  {
   "cell_type": "code",
   "execution_count": 15,
   "id": "4c972b7e",
   "metadata": {},
   "outputs": [
    {
     "name": "stdout",
     "output_type": "stream",
     "text": [
      "(36, 'wbpcmlzosqaurtigvjefnhkydx0123456789')\n"
     ]
    }
   ],
   "source": [
    "def longest_substring(s):\n",
    "    if len(s) == 0:\n",
    "        return 0\n",
    "    #s = s.lower() #dont lower the string as it may contain both lower and uppercase characters which are supposed to be treated as different\n",
    "    seen = set()\n",
    "    final_str = ''\n",
    "    sub_str = ''\n",
    "    i = 0\n",
    "    while i < len(s):\n",
    "        if s[i] not in seen:\n",
    "            seen.add(str(s[i]))\n",
    "            sub_str += str(s[i])\n",
    "        elif s[i] in seen:\n",
    "            seen.clear()\n",
    "            j = i-1\n",
    "            while j >= 0:\n",
    "                if s[i] == s[j]:\n",
    "                    break\n",
    "                seen.add(str(s[j]))\n",
    "                j -= 1\n",
    "            seen.add(str(s[i]))\n",
    "            sub_str = ''.join(seen)\n",
    "        if len(sub_str) > len(final_str):\n",
    "            final_str = sub_str\n",
    "        i+=1\n",
    "    return len(final_str)\n",
    "\n",
    "print(longest_substring(\"hijklmnopqrstuvwxyzABCDEFGHIJKLMNOPQRSTUVWXYZ0123456789hijklmnopqrstuvwxyzABCDEFGHIJKLMNOPQRSTUVWXYZ0123456789hijklmnopqrstuvwxyzABCDEFGHIJKLMNOPQRSTUVWXYZ0123456789hijklmnopqrstuvwxyzABCDEFGHIJKLMNOPQRSTUVWXYZ0123456789hijklmnopqrstuvwxyzABCDEFGHIJKLMNOPQRSTUVWXYZ0123456789hijklmnopqrstuvwxyzABCDEFGHIJKLMNOPQRSTUVWXYZ0123456789\"))"
   ]
  },
  {
   "cell_type": "markdown",
   "id": "044cb1a6",
   "metadata": {},
   "source": [
    "#### Solution 2\n",
    "Quadratic time  \n",
    "Using a sliding window.  Whenever we see repetition, we remove the previous occurrence and slide the window.  \n",
    "O(n^2)"
   ]
  },
  {
   "cell_type": "code",
   "execution_count": 17,
   "id": "7d4d7113",
   "metadata": {},
   "outputs": [],
   "source": [
    "def lengthOfLongestSubstring(self, s):\n",
    "    \"\"\"\n",
    "    :type s: str\n",
    "    :rtype: int\n",
    "    \"\"\"\n",
    "    n = len(s)\n",
    "\n",
    "    # Result\n",
    "    res = 0\n",
    "\n",
    "    for i in range(n):\n",
    "\n",
    "        # Note : Default values in\n",
    "        # visited are false\n",
    "        visited = [0] * 256\n",
    "\n",
    "        for j in range(i, n):\n",
    "\n",
    "            # If current character is visited\n",
    "            # Break the loop\n",
    "            if (visited[            # current character as visited.\n",
    "ord(s[j])] == True):\n",
    "                break\n",
    "\n",
    "            # Else update the result if\n",
    "            # this window is larger, and mark\n",
    "            else:\n",
    "                res = max(res, j - i + 1)\n",
    "                visited[ord(s[j])] = True\n",
    "\n",
    "        # Remove the first character of previous\n",
    "        # window\n",
    "        visited[ord(s[i])] = False\n",
    "\n",
    "    return res"
   ]
  },
  {
   "cell_type": "markdown",
   "id": "fdc6ae79",
   "metadata": {},
   "source": [
    "#### Solution 3 \n",
    "Linear Time  \n",
    "Time Complexity: O(n + d) where n is length of the input string and d is number of characters in input string alphabet. For example, if string consists of lowercase English characters then value of d is 26. \n",
    "Auxiliary Space: O(d) "
   ]
  },
  {
   "cell_type": "code",
   "execution_count": 1,
   "id": "90901535",
   "metadata": {},
   "outputs": [
    {
     "name": "stdout",
     "output_type": "stream",
     "text": [
      "The input string is geeksforgeeks\n",
      "The length of the longest non-repeating character substring is 7\n"
     ]
    }
   ],
   "source": [
    "# without repeating characters\n",
    "def longestUniqueSubsttr(string):\n",
    "    # last index of every character\n",
    "    last_idx = {}\n",
    "    max_len = 0\n",
    "\n",
    "    # starting index of current\n",
    "    # window to calculate max_len\n",
    "    start_idx = 0\n",
    "\n",
    "    for i in range(0, len(string)):\n",
    "        #slide the window one step forward from last occurence\n",
    "        if string[i] in last_idx:\n",
    "            start_idx = max(start_idx, last_idx[string[i]] + 1)\n",
    "\n",
    "        # Update result if we get a larger window\n",
    "        max_len = max(max_len, i - start_idx + 1)\n",
    "\n",
    "        # Update last index of current char.\n",
    "        last_idx[string[i]] = i\n",
    "\n",
    "    return max_len\n",
    "\n",
    "\n",
    "# Driver program to test the above function\n",
    "string = \"geeksforgeeks\"\n",
    "print(\"The input string is \" + string)\n",
    "length = longestUniqueSubsttr(string)\n",
    "print(\"The length of the longest non-repeating character\" +\n",
    "      \" substring is \" + str(length))"
   ]
  },
  {
   "cell_type": "code",
   "execution_count": null,
   "id": "1d6ee991",
   "metadata": {},
   "outputs": [],
   "source": []
  }
 ],
 "metadata": {
  "kernelspec": {
   "display_name": "Python [conda env:py37]",
   "language": "python",
   "name": "conda-env-py37-py"
  },
  "language_info": {
   "codemirror_mode": {
    "name": "ipython",
    "version": 3
   },
   "file_extension": ".py",
   "mimetype": "text/x-python",
   "name": "python",
   "nbconvert_exporter": "python",
   "pygments_lexer": "ipython3",
   "version": "3.7.10"
  }
 },
 "nbformat": 4,
 "nbformat_minor": 5
}
