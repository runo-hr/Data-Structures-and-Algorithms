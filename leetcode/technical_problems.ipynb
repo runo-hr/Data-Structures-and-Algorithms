{
 "cells": [
  {
   "cell_type": "markdown",
   "id": "6e437876",
   "metadata": {},
   "source": [
    "## Two Sum"
   ]
  },
  {
   "cell_type": "code",
   "execution_count": 17,
   "id": "b833310c",
   "metadata": {},
   "outputs": [
    {
     "name": "stdout",
     "output_type": "stream",
     "text": [
      "(0, 0)\n"
     ]
    }
   ],
   "source": [
    "#wrong ans\n",
    "def two_sum(nums, target):\n",
    "    vals = set()\n",
    "    for num in nums:\n",
    "        val = target - num\n",
    "        if num in vals:\n",
    "            ans = (nums.index(num), nums.index(val) )\n",
    "            return ans\n",
    "        vals.add(val)\n",
    "        \n",
    "print(two_sum([3,3], 6))"
   ]
  },
  {
   "cell_type": "markdown",
   "id": "e4e6f994",
   "metadata": {},
   "source": [
    "#### Solution\n",
    "O(n) time  \n",
    "O(n) space"
   ]
  },
  {
   "cell_type": "code",
   "execution_count": 19,
   "id": "8b8114e2",
   "metadata": {},
   "outputs": [
    {
     "name": "stdout",
     "output_type": "stream",
     "text": [
      "(0, 1)\n"
     ]
    }
   ],
   "source": [
    "#correct ans\n",
    "def two_sum(nums, target):\n",
    "    vals = set()\n",
    "    i = 0\n",
    "    while i < len(nums):\n",
    "        val = target - nums[i]\n",
    "        if nums[i] in vals:\n",
    "            ans = ( nums.index(val), i)\n",
    "            return ans\n",
    "        else:\n",
    "            vals.add(val)\n",
    "            i += 1\n",
    "print(two_sum([3,3], 6))"
   ]
  },
  {
   "cell_type": "markdown",
   "id": "d1207f88",
   "metadata": {},
   "source": [
    "## Add Two numbers  \n",
    "You are given two non-empty linked lists representing two non-negative integers. The digits are stored in reverse order, and each of their nodes contains a single digit. Add the two numbers and return the sum as a linked list.\n",
    "\n",
    "You may assume the two numbers do not contain any leading zero, except the number 0 itself"
   ]
  },
  {
   "cell_type": "markdown",
   "id": "b0e1400a",
   "metadata": {},
   "source": [
    "### This first solution does not use the linked list class provided by leetcode"
   ]
  },
  {
   "cell_type": "code",
   "execution_count": 26,
   "id": "750e9a84",
   "metadata": {},
   "outputs": [
    {
     "name": "stdout",
     "output_type": "stream",
     "text": [
      "0 \n",
      "0 \n",
      "0 \n"
     ]
    }
   ],
   "source": [
    "class Node:\n",
    "    def __init__(self, v, n=None):\n",
    "        self.value = v\n",
    "        self.next = n\n",
    "\n",
    "class Linked_List:\n",
    "    def __init__(self, r = None):\n",
    "        self.root = r\n",
    "\n",
    "    def add(self, v):\n",
    "        if self.root == None:\n",
    "            new_node = Node(v)\n",
    "            self.root = new_node\n",
    "        else:\n",
    "            new_node = Node(v, self.root)\n",
    "            self.root = new_node\n",
    "\n",
    "    def __str__(self):\n",
    "        linkedListStr = \"\"\n",
    "        temp = self.root\n",
    "        while temp:\n",
    "            linkedListStr = (linkedListStr +\n",
    "                             str(temp.value) + \" \")\n",
    "            temp = temp.next\n",
    "        return linkedListStr\n",
    "\n",
    "class Solution(object):\n",
    "    def add_two_numbers(self, *args):\n",
    "        sum_nums = 0\n",
    "        for lst in args:\n",
    "            l_str = ''\n",
    "            temp = lst.root\n",
    "            while temp:\n",
    "                l_str = l_str + str(temp.value)\n",
    "                temp = temp.next\n",
    "            sum_nums += int(l_str[::-1])\n",
    "        ans_lst = Linked_List()\n",
    "        for i in str(sum_nums):\n",
    "            ans_lst.add(i)\n",
    "        return ans_lst\n",
    "\n",
    "l1 = [0]\n",
    "l2 = [0]\n",
    "\n",
    "lnkd_lst_1 = Linked_List()\n",
    "for val in l1:\n",
    "    lnkd_lst_1.add(val)\n",
    "print(lnkd_lst_1)\n",
    "\n",
    "lnkd_lst_2 = Linked_List()\n",
    "for val in l2:\n",
    "    lnkd_lst_2.add(val)\n",
    "print(lnkd_lst_2)\n",
    "\n",
    "s = Solution()\n",
    "ans = s.add_two_numbers(lnkd_lst_1, lnkd_lst_2)\n",
    "print(ans)"
   ]
  },
  {
   "cell_type": "markdown",
   "id": "f127e37e",
   "metadata": {},
   "source": [
    "### solution\n",
    "Assuming that the length of l1 linked list is m and the length of l2 linked list is n then we are iterating at most m or n times depending on which of the two has more nodes.   \n",
    "Therefore, the time complexity of the algorithm is O(max(m, n))."
   ]
  },
  {
   "cell_type": "code",
   "execution_count": 1,
   "id": "51d24ed0",
   "metadata": {},
   "outputs": [],
   "source": [
    "class ListNode(object):\n",
    "    def __init__(self, val=0, next=None):\n",
    "         self.val = val\n",
    "         self.next = next\n",
    "\n",
    "\n",
    "class Solution(object):\n",
    "    def addTwoNumbers(self, l1, l2):\n",
    "        \"\"\"\n",
    "        :type l1: ListNode\n",
    "        :type l2: ListNode\n",
    "        :rtype: ListNode\n",
    "        \"\"\"\n",
    "        carry = 0\n",
    "        result = ListNode(0)\n",
    "        pointer = result #pointer and result are referenced to the same object.\n",
    "        while (l1 or l2 or carry):\n",
    "            first_num = l1.val if l1 else 0 #check if current node is not None\n",
    "            second_num = l2.val if l2 else 0\n",
    "\n",
    "            summation = first_num + second_num + carry\n",
    "            num = summation % 10\n",
    "            carry = summation // 10\n",
    "\n",
    "            pointer.next = ListNode(num)\n",
    "\n",
    "            pointer = pointer.next #update pointer with the result\n",
    "            l1 = l1.next if l1 else None\n",
    "            l2 = l2.next if l2 else None\n",
    "        return result.next\n",
    "\n"
   ]
  },
  {
   "cell_type": "markdown",
   "id": "81dc7573",
   "metadata": {},
   "source": [
    "## Longest substring without repeating characters  \n",
    "Given a string s, find the length of the longest substring without repeating characters."
   ]
  },
  {
   "cell_type": "markdown",
   "id": "4b13cac2",
   "metadata": {},
   "source": [
    "### Solution 1\n",
    "Quadratic time  \n",
    "Time complexity O(n^2)"
   ]
  },
  {
   "cell_type": "code",
   "execution_count": 15,
   "id": "71ba45a8",
   "metadata": {},
   "outputs": [
    {
     "name": "stdout",
     "output_type": "stream",
     "text": [
      "(36, 'wbpcmlzosqaurtigvjefnhkydx0123456789')\n"
     ]
    }
   ],
   "source": [
    "def longest_substring(s):\n",
    "    if len(s) == 0:\n",
    "        return 0\n",
    "    #s = s.lower() #dont lower the string as it may contain both lower and uppercase characters which are supposed to be treated as different\n",
    "    seen = set()\n",
    "    final_str = ''\n",
    "    sub_str = ''\n",
    "    i = 0\n",
    "    while i < len(s):\n",
    "        if s[i] not in seen:\n",
    "            seen.add(str(s[i]))\n",
    "            sub_str += str(s[i])\n",
    "        elif s[i] in seen:\n",
    "            seen.clear()\n",
    "            j = i-1\n",
    "            while j >= 0:\n",
    "                if s[i] == s[j]:\n",
    "                    break\n",
    "                seen.add(str(s[j]))\n",
    "                j -= 1\n",
    "            seen.add(str(s[i]))\n",
    "            sub_str = ''.join(seen)\n",
    "        if len(sub_str) > len(final_str):\n",
    "            final_str = sub_str\n",
    "        i+=1\n",
    "    return len(final_str)\n",
    "\n",
    "print(longest_substring(\"hijklmnopqrstuvwxyzABCDEFGHIJKLMNOPQRSTUVWXYZ0123456789hijklmnopqrstuvwxyzABCDEFGHIJKLMNOPQRSTUVWXYZ0123456789hijklmnopqrstuvwxyzABCDEFGHIJKLMNOPQRSTUVWXYZ0123456789hijklmnopqrstuvwxyzABCDEFGHIJKLMNOPQRSTUVWXYZ0123456789hijklmnopqrstuvwxyzABCDEFGHIJKLMNOPQRSTUVWXYZ0123456789hijklmnopqrstuvwxyzABCDEFGHIJKLMNOPQRSTUVWXYZ0123456789\"))"
   ]
  },
  {
   "cell_type": "markdown",
   "id": "24b0e3ea",
   "metadata": {},
   "source": [
    "#### Solution 2\n",
    "Quadratic time  \n",
    "Using a sliding window.  Whenever we see repetition, we remove the previous occurrence and slide the window.  \n",
    "O(n^2)"
   ]
  },
  {
   "cell_type": "code",
   "execution_count": 17,
   "id": "ba25af71",
   "metadata": {},
   "outputs": [],
   "source": [
    "def lengthOfLongestSubstring(self, s):\n",
    "    \"\"\"\n",
    "    :type s: str\n",
    "    :rtype: int\n",
    "    \"\"\"\n",
    "    n = len(s)\n",
    "\n",
    "    # Result\n",
    "    res = 0\n",
    "\n",
    "    for i in range(n):\n",
    "\n",
    "        # Note : Default values in\n",
    "        # visited are false\n",
    "        visited = [0] * 256\n",
    "\n",
    "        for j in range(i, n):\n",
    "\n",
    "            # If current character is visited\n",
    "            # Break the loop\n",
    "            if (visited[            # current character as visited.\n",
    "ord(s[j])] == True):\n",
    "                break\n",
    "\n",
    "            # Else update the result if\n",
    "            # this window is larger, and mark\n",
    "            else:\n",
    "                res = max(res, j - i + 1)\n",
    "                visited[ord(s[j])] = True\n",
    "\n",
    "        # Remove the first character of previous\n",
    "        # window\n",
    "        visited[ord(s[i])] = False\n",
    "\n",
    "    return res"
   ]
  },
  {
   "cell_type": "markdown",
   "id": "62b046eb",
   "metadata": {},
   "source": [
    "#### Solution 3 \n",
    "Linear Time  \n",
    "Time Complexity: O(n + d) where n is length of the input string and d is number of characters in input string alphabet. For example, if string consists of lowercase English characters then value of d is 26. \n",
    "Auxiliary Space: O(d) "
   ]
  },
  {
   "cell_type": "code",
   "execution_count": 1,
   "id": "03161517",
   "metadata": {},
   "outputs": [
    {
     "name": "stdout",
     "output_type": "stream",
     "text": [
      "The input string is geeksforgeeks\n",
      "The length of the longest non-repeating character substring is 7\n"
     ]
    }
   ],
   "source": [
    "# without repeating characters\n",
    "def longestUniqueSubsttr(string):\n",
    "    # last index of every character\n",
    "    last_idx = {}\n",
    "    max_len = 0\n",
    "\n",
    "    # starting index of current\n",
    "    # window to calculate max_len\n",
    "    start_idx = 0\n",
    "\n",
    "    for i in range(0, len(string)):\n",
    "        #slide the window one step forward from last occurence\n",
    "        if string[i] in last_idx:\n",
    "            start_idx = max(start_idx, last_idx[string[i]] + 1)\n",
    "\n",
    "        # Update result if we get a larger window\n",
    "        max_len = max(max_len, i - start_idx + 1)\n",
    "\n",
    "        # Update last index of current char.\n",
    "        last_idx[string[i]] = i\n",
    "\n",
    "    return max_len\n",
    "\n",
    "\n",
    "# Driver program to test the above function\n",
    "string = \"geeksforgeeks\"\n",
    "print(\"The input string is \" + string)\n",
    "length = longestUniqueSubsttr(string)\n",
    "print(\"The length of the longest non-repeating character\" +\n",
    "      \" substring is \" + str(length))"
   ]
  },
  {
   "cell_type": "markdown",
   "id": "c6451e56",
   "metadata": {},
   "source": [
    "## Median of Two  sorted arrays\n",
    "Given two sorted arrays nums1 and nums2 of size m and n respectively, return the median of the two sorted arrays.\n",
    "\n",
    "The overall run time complexity should be O(log (m+n)).  \n",
    "An algorithm is said to have a logarithmic time complexity when it reduces the size of the input data in each step (it don’t need to look at all values of the input data)  \n",
    "\n",
    "The solution below has time complexity O( log (min (n, m) ) ).  \n",
    "It has two pointers; left,l and right,r on the smallest array. Everytime either pointer is moved, the number of times the pointer has to be moved for the algorithm to arrive at the median decrease.  \n",
    "\n",
    "<a href='https://youtu.be/q6IEA26hvXc' target= 'blank'>video reference</a>"
   ]
  },
  {
   "cell_type": "code",
   "execution_count": 1,
   "id": "6684c0ce",
   "metadata": {},
   "outputs": [
    {
     "name": "stdout",
     "output_type": "stream",
     "text": [
      "5.5\n"
     ]
    }
   ],
   "source": [
    "def findMedianSortedArrays(nums1, nums2):\n",
    "    \"\"\"\n",
    "    :type nums1: List[int]\n",
    "    :type nums2: List[int]\n",
    "    :rtype: float\n",
    "    \"\"\"\n",
    "    a, b = nums1, nums2\n",
    "    if len(a) > len(b):\n",
    "        a, b = b, a\n",
    "    total = len(a) + len(b)\n",
    "    half = total // 2\n",
    "\n",
    "    l, r = 0, len(a) - 1\n",
    "    while True:\n",
    "        i = (l + r) // 2\n",
    "        j = half - i - 2\n",
    "\n",
    "        a_left = a[i] if i >= 0 else float('-infinity')\n",
    "        a_right = a[i + 1] if (i + 1) < len(a) else float('infinity')\n",
    "        b_left = b[j] if j >= 0 else float('-infinity')\n",
    "        b_right = b[j + 1] if (j + 1) < len(b) else float('infinity')\n",
    "\n",
    "        if a_left <= b_right and b_left <= a_right:\n",
    "            if total % 2:\n",
    "                return min(a_right, b_right)\n",
    "            # even\n",
    "            return (max(a_left, b_left) + min(a_right, b_right)) / 2.0\n",
    "\n",
    "        elif a_left > b_right:\n",
    "            r = i - 1\n",
    "        elif b_left > a_right:\n",
    "            l = i + 1\n",
    "\n",
    "median = findMedianSortedArrays([1,2,3,4,5,6,7,8], [5,6,9,10])\n",
    "print(median)"
   ]
  },
  {
   "cell_type": "markdown",
   "id": "d530b8d4",
   "metadata": {},
   "source": [
    "## Longest Palindromic Substring\n",
    "Consider every character as the middle of the sub string  \n",
    "Move left and right pointers  \n",
    "Check if values are equal    \n",
    "Time complexity: O(n^2)  \n",
    "<a href='https://youtu.be/XYQecbcd6_c' target= 'blank'>video reference</a>"
   ]
  },
  {
   "cell_type": "code",
   "execution_count": 1,
   "id": "494a306a",
   "metadata": {},
   "outputs": [
    {
     "name": "stdout",
     "output_type": "stream",
     "text": [
      "a\n"
     ]
    }
   ],
   "source": [
    "def longestPalindrome(s):\n",
    "    \"\"\"\n",
    "    :type s: str\n",
    "    :rtype: str\n",
    "    \"\"\"\n",
    "    sub_str = ''\n",
    "    max_len = 0\n",
    "    for i in range(len(s)):\n",
    "        # odd length\n",
    "        l, r = i, i\n",
    "        while l >= 0 and r < len(s) and s[l] == s[r]:\n",
    "            if (r - l + 1) > max_len:\n",
    "                sub_str = s[l: r + 1]\n",
    "                max_len = r - l + 1\n",
    "            l -= 1\n",
    "            r += 1\n",
    "            \n",
    "        #even length\n",
    "        l, r = i, i + 1\n",
    "        while l >= 0 and r < len(s) and s[l] == s[r]:\n",
    "            if (r - l + 1) > max_len:\n",
    "                sub_str = s[l: r + 1]\n",
    "                max_len = r - l + 1\n",
    "            l -= 1\n",
    "            r += 1\n",
    "    return sub_str\n",
    "\n",
    "\n",
    "if __name__ == '__main__':\n",
    "    print(longestPalindrome('ac'))\n"
   ]
  },
  {
   "cell_type": "code",
   "execution_count": null,
   "id": "05e3d917",
   "metadata": {},
   "outputs": [],
   "source": []
  }
 ],
 "metadata": {
  "kernelspec": {
   "display_name": "Python [conda env:py37]",
   "language": "python",
   "name": "conda-env-py37-py"
  },
  "language_info": {
   "codemirror_mode": {
    "name": "ipython",
    "version": 3
   },
   "file_extension": ".py",
   "mimetype": "text/x-python",
   "name": "python",
   "nbconvert_exporter": "python",
   "pygments_lexer": "ipython3",
   "version": "3.7.10"
  }
 },
 "nbformat": 4,
 "nbformat_minor": 5
}
